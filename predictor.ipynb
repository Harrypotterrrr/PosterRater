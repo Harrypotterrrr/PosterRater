{
 "cells": [
  {
   "cell_type": "markdown",
   "metadata": {},
   "source": [
    "## use following code to import this class\n",
    "```\n",
    "import import_ipynb\n",
    "from imgAugmentation import ImageProcess\n",
    "```"
   ]
  },
  {
   "cell_type": "code",
   "execution_count": null,
   "metadata": {},
   "outputs": [],
   "source": [
    "import os\n",
    "import tensorflow as tf\n",
    "from keras.backend.tensorflow_backend import set_session\n",
    "from keras import models\n",
    "from keras import layers\n",
    "from keras import regularizers\n",
    "from keras.applications import VGG16\n",
    "from PIL import Image\n",
    "import numpy as np\n",
    "\n",
    "standard_width = 200\n",
    "standard_height = 280"
   ]
  },
  {
   "cell_type": "code",
   "execution_count": null,
   "metadata": {},
   "outputs": [],
   "source": [
    "class Predictor:\n",
    "    \n",
    "    def __init__(self):\n",
    "        \"\"\"\n",
    "        Constructor of the Predictor with the model_weight trained beforehand\n",
    "        \"\"\"\n",
    "\n",
    "        # initialize the pretrained self.model\n",
    "        conv_base = VGG16(weights='imagenet',\n",
    "                          include_top=False,\n",
    "                          input_shape=(standard_height, standard_width, 3))\n",
    "\n",
    "        # initilize the self.model\n",
    "        self.model = models.Sequential()\n",
    "        self.model.add(conv_base)\n",
    "        self.model.add(layers.Flatten())\n",
    "        self.model.add(layers.Dense(256, activation='relu'))\n",
    "        self.model.add(layers.Dense(1,activation='sigmoid'))\n",
    "\n",
    "        # compile the self.model\n",
    "        self.model.compile(optimizer='Adam',\n",
    "                      loss='binary_crossentropy',\n",
    "                      metrics=['accuracy'])\n",
    "\n",
    "        # load weights\n",
    "        model_path = './model_save/'\n",
    "        model_name = 'vgg16_solveOverlap.h5'\n",
    "        if not os.path.exists(model_path):\n",
    "            os.mkdirs(model_path)\n",
    "        if os.path.isfile(model_path + model_name):\n",
    "            self.model.load_weights(model_path + model_name)\n",
    "\n",
    "    def predict_imgPath(self, path):\n",
    "        \"\"\"\n",
    "        Given a path, the function return its prediction\n",
    "        :param path: the path of the image, eg: ./data/poster_negative/n0.png\"\n",
    "        :return: The prediction of the image. The closer the return is to 1, the better the image predicted is, vice versa.\n",
    "        \"\"\"\n",
    "        img = Image.open(path).convert('RGB')\n",
    "        im = np.array(img) / 255.0\n",
    "        self.predict(im)\n",
    "        \n",
    "    def predict_PIL(self, img):\n",
    "        \"\"\"\n",
    "        Given an PIL format picture, the function return its prediction\n",
    "        :param img: img is PIL format\n",
    "        :return: The prediction of the image. The closer the return is to 1, the better the image predicted is, vice versa.\n",
    "        \"\"\"\n",
    "        im = np.array(img.convert('RGB')) / 255.0\n",
    "        self.predict(im)\n",
    "    \n",
    "    \n",
    "    def predict(self, im):\n",
    "        \"\"\"\n",
    "        Given a pic array, the function gives the predictions of each one in this array\n",
    "        :param img: img is np.array() format\n",
    "        :return: The final result of predictions\n",
    "        \"\"\"\n",
    "        test_set = []\n",
    "        test_set.append(im)\n",
    "        assert len(np.array(test_set).shape) == 4\n",
    "        results = self.model.predict(np.array(test_set))\n",
    "        print(results)\n",
    "        "
   ]
  },
  {
   "cell_type": "code",
   "execution_count": null,
   "metadata": {},
   "outputs": [],
   "source": [
    "if __name__ == \"__main__\":\n",
    "    \n",
    "    # construct a predictor\n",
    "    predictor = Predictor()\n",
    "    \n",
    "    # test path\n",
    "    img_path = \"./data/poster_negative/n1667.png\"\n",
    "    predictor.predict_imgPath(img_path)\n",
    "    \n",
    "    # test PIL\n",
    "    img_path = \"./data/poster_negative_overlap/drink/15_100010_0.png\"\n",
    "    img = Image.open(img_path)\n",
    "    predictor.predict_PIL(img)"
   ]
  }
 ],
 "metadata": {
  "kernelspec": {
   "display_name": "Python 3",
   "language": "python",
   "name": "python3"
  },
  "language_info": {
   "codemirror_mode": {
    "name": "ipython",
    "version": 3
   },
   "file_extension": ".py",
   "mimetype": "text/x-python",
   "name": "python",
   "nbconvert_exporter": "python",
   "pygments_lexer": "ipython3",
   "version": "3.5.2"
  }
 },
 "nbformat": 4,
 "nbformat_minor": 2
}
