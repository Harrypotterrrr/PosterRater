{
 "cells": [
  {
   "cell_type": "markdown",
   "metadata": {},
   "source": [
    "# Auto Poster Generation\n",
    "## 当前任务\n",
    "### 打分器（实际上可看作二分类问题）\n",
    "#### 1. 输入\n",
    "- 正样本：已有的海报图像，label为1\n",
    "- 负样本：在现有海报图像的基础上随机搭配，label为0\n",
    "\n",
    "#### 2. 网络结构\n",
    "- 可以用现有的卷积基模型，可能需要fine-tune\n",
    "- 也可以自己构造一个简单的模型（尝试）\n",
    "- 对于卷积基提取的特征，后面接上Flatten和Dense层，最后做一个二分类\n",
    "\n",
    "#### 3. 输出\n",
    "- 输出的概率值既可以看作是打分器的分数"
   ]
  },
  {
   "cell_type": "code",
   "execution_count": 1,
   "metadata": {},
   "outputs": [
    {
     "name": "stderr",
     "output_type": "stream",
     "text": [
      "Using TensorFlow backend.\n"
     ]
    }
   ],
   "source": [
    "import os\n",
    "import tensorflow as tf\n",
    "from keras.backend.tensorflow_backend import set_session\n",
    "\n",
    "# os.environ[\"CUDA_VISIBLE_DEVICES\"] = \"0\"\n",
    "    \n",
    "config = tf.ConfigProto()\n",
    "config.gpu_options.allow_growth = True\n",
    "# config.gpu_options.per_process_gpu_memory_fraction = 0.5\n",
    "set_session(tf.Session(config=config))"
   ]
  },
  {
   "cell_type": "code",
   "execution_count": 2,
   "metadata": {},
   "outputs": [],
   "source": [
    "standard_width = 200\n",
    "standard_height = 280"
   ]
  },
  {
   "cell_type": "markdown",
   "metadata": {},
   "source": [
    "### 读取数据集并进行预处理"
   ]
  },
  {
   "cell_type": "code",
   "execution_count": 3,
   "metadata": {},
   "outputs": [
    {
     "name": "stdout",
     "output_type": "stream",
     "text": [
      "poster positive num: 7035\n",
      "poster negative num: 10140\n"
     ]
    }
   ],
   "source": [
    "import glob\n",
    "import numpy as np\n",
    "from PIL import Image\n",
    "\n",
    "poster_positive = glob.glob('./data/poster_positive/*.png')\n",
    "poster_negative = glob.glob('./data/poster_negative/*.png')\n",
    "poster_positive += glob.glob('./data/poster_positive_aug/*.png')\n",
    "poster_negative += glob.glob('./data/poster_negative_aug/*.png')\n",
    "\n",
    "np.random.shuffle(poster_positive)\n",
    "np.random.shuffle(poster_negative)\n",
    "poster_positive_num = len(poster_positive)\n",
    "poster_negative_num = len(poster_negative)\n",
    "\n",
    "print(\"poster positive num: \" + str(poster_positive_num))\n",
    "print(\"poster negative num: \" + str(poster_negative_num))"
   ]
  },
  {
   "cell_type": "markdown",
   "metadata": {},
   "source": [
    "## 使用RGB图像训练"
   ]
  },
  {
   "cell_type": "code",
   "execution_count": null,
   "metadata": {},
   "outputs": [],
   "source": [
    "import random\n",
    "\n",
    "num_train_positive = 6800\n",
    "num_train_negative = 6800\n",
    "\n",
    "num_validation_positive = 100\n",
    "num_validation_negative = 100\n",
    "\n",
    "num_test_positive = 100\n",
    "num_test_negative = 100\n",
    "\n",
    "# tuple(number, height, width, dimension)\n",
    "X_train = np.empty((num_train_positive + num_train_negative, standard_height, standard_width, 3))\n",
    "Y_train = np.empty((num_train_positive + num_train_negative, 1))\n",
    "\n",
    "X_validation = np.empty((num_validation_positive + num_validation_negative, standard_height, standard_width, 3))\n",
    "Y_validation = np.empty((num_validation_positive + num_validation_negative, 1))\n",
    "\n",
    "X_test = np.empty((num_test_positive + num_test_negative, standard_height, standard_width, 3))\n",
    "Y_test = np.empty((num_test_positive + num_test_negative, 1))\n",
    "\n",
    "# make train set\n",
    "for i in range(num_train_positive):\n",
    "#     print(poster_positive[i].shape)\n",
    "    im = Image.open(poster_positive[i])\n",
    "    X_train[i] = np.asarray(im.convert('RGB'), dtype='float64') / 255.0  \n",
    "    Y_train[i] = 1\n",
    "    \n",
    "for i in range(num_train_negative):\n",
    "    im = Image.open(poster_negative[i])\n",
    "    X_train[num_train_positive + i] = np.asarray(im.convert('RGB'), dtype='float64') /255.0\n",
    "    Y_train[num_train_positive + i] = 0\n",
    "    \n",
    "# index = [i for i in range(len(X_train))]\n",
    "# random.shuffle(index)\n",
    "# X_train = X_train[index]\n",
    "# Y_train = Y_train[index]\n",
    "\n",
    "# shuffle the whole train set\n",
    "zipped = list(zip(X_train, Y_train))\n",
    "np.random.shuffle(zipped)\n",
    "X_train[:], Y_train[:] = zip(*zipped)\n",
    "\n",
    "print(np.array(X_train).shape, np.array(Y_train).shape)\n",
    "assert len(X_train) == len(Y_train)\n",
    "\n",
    "# make validation set\n",
    "for i in range(num_validation_positive):\n",
    "    im = Image.open(poster_positive[num_train_positive + i])\n",
    "    X_validation[i] = np.asarray(im.convert('RGB'), dtype='float64') / 255.0  \n",
    "    Y_validation[i] = 1\n",
    "    \n",
    "for i in range(num_validation_negative):\n",
    "    im = Image.open(poster_negative[num_train_negative + i])\n",
    "    X_validation[num_validation_positive + i] = np.asarray(im.convert('RGB'), dtype='float64') /255.0\n",
    "    Y_validation[num_validation_positive + i] = 0\n",
    "\n",
    "print(np.array(X_validation).shape, np.array(Y_validation).shape)\n",
    "assert len(X_validation) == len(Y_validation)\n",
    "\n",
    "# make test set\n",
    "for i in range(num_test_positive):\n",
    "    im = Image.open(poster_positive[num_train_positive + num_validation_positive + i])\n",
    "    X_test[i] = np.asarray(im.convert('RGB'), dtype='float64') / 255.0  \n",
    "    Y_test[i] = 1\n",
    "    \n",
    "for i in range(num_test_negative):\n",
    "    im = Image.open(poster_negative[num_train_negative + num_validation_negative + i])\n",
    "    X_test[num_test_positive + i] = np.asarray(im.convert('RGB'), dtype='float64') /255.0\n",
    "    Y_test[num_test_positive + i] = 0\n",
    "\n",
    "print(np.array(X_test).shape, np.array(Y_test).shape)\n",
    "assert len(X_test) == len(Y_test)"
   ]
  },
  {
   "cell_type": "markdown",
   "metadata": {},
   "source": [
    "## 使用YUV图像训练"
   ]
  },
  {
   "cell_type": "code",
   "execution_count": 6,
   "metadata": {},
   "outputs": [
    {
     "ename": "TypeError",
     "evalue": "Array() missing 1 required positional argument: 'size_or_initializer'",
     "output_type": "error",
     "traceback": [
      "\u001b[0;31m---------------------------------------------------------------------------\u001b[0m",
      "\u001b[0;31mTypeError\u001b[0m                                 Traceback (most recent call last)",
      "\u001b[0;32m<ipython-input-6-4905ed19194a>\u001b[0m in \u001b[0;36m<module>\u001b[0;34m\u001b[0m\n\u001b[1;32m     14\u001b[0m \u001b[0;34m\u001b[0m\u001b[0m\n\u001b[1;32m     15\u001b[0m \u001b[0;31m# tuple(number, height, width, dimension)\u001b[0m\u001b[0;34m\u001b[0m\u001b[0;34m\u001b[0m\u001b[0m\n\u001b[0;32m---> 16\u001b[0;31m \u001b[0mX_train\u001b[0m \u001b[0;34m=\u001b[0m \u001b[0mmultiprocessing\u001b[0m\u001b[0;34m.\u001b[0m\u001b[0mArray\u001b[0m\u001b[0;34m(\u001b[0m\u001b[0mnp\u001b[0m\u001b[0;34m.\u001b[0m\u001b[0mempty\u001b[0m\u001b[0;34m(\u001b[0m\u001b[0;34m(\u001b[0m\u001b[0mnum_train_positive\u001b[0m \u001b[0;34m+\u001b[0m \u001b[0mnum_train_negative\u001b[0m\u001b[0;34m,\u001b[0m \u001b[0mstandard_height\u001b[0m\u001b[0;34m,\u001b[0m \u001b[0mstandard_width\u001b[0m\u001b[0;34m,\u001b[0m \u001b[0;36m3\u001b[0m\u001b[0;34m)\u001b[0m\u001b[0;34m)\u001b[0m\u001b[0;34m)\u001b[0m\u001b[0;34m\u001b[0m\u001b[0m\n\u001b[0m\u001b[1;32m     17\u001b[0m \u001b[0mY_train\u001b[0m \u001b[0;34m=\u001b[0m \u001b[0mnp\u001b[0m\u001b[0;34m.\u001b[0m\u001b[0mempty\u001b[0m\u001b[0;34m(\u001b[0m\u001b[0;34m(\u001b[0m\u001b[0mnum_train_positive\u001b[0m \u001b[0;34m+\u001b[0m \u001b[0mnum_train_negative\u001b[0m\u001b[0;34m,\u001b[0m \u001b[0;36m1\u001b[0m\u001b[0;34m)\u001b[0m\u001b[0;34m)\u001b[0m\u001b[0;34m\u001b[0m\u001b[0m\n\u001b[1;32m     18\u001b[0m \u001b[0;34m\u001b[0m\u001b[0m\n",
      "\u001b[0;31mTypeError\u001b[0m: Array() missing 1 required positional argument: 'size_or_initializer'"
     ]
    }
   ],
   "source": [
    "import random\n",
    "from imgAugmentation import ImageProcess\n",
    "from multiprocessing import Pool\n",
    "import multiprocessing\n",
    "\n",
    "num_train_positive = 680\n",
    "num_train_negative = 680\n",
    "\n",
    "num_validation_positive = 100\n",
    "num_validation_negative = 100\n",
    "\n",
    "num_test_positive = 100\n",
    "num_test_negative = 100\n",
    "\n",
    "# tuple(number, height, width, dimension)\n",
    "X_train = multiprocessing.Array(np.empty((num_train_positive + num_train_negative, standard_height, standard_width, 3)))\n",
    "Y_train = np.empty((num_train_positive + num_train_negative, 1))\n",
    "\n",
    "X_validation = np.empty((num_validation_positive + num_validation_negative, standard_height, standard_width, 3))\n",
    "Y_validation = np.empty((num_validation_positive + num_validation_negative, 1))\n",
    "\n",
    "X_test = np.empty((num_test_positive + num_test_negative, standard_height, standard_width, 3))\n",
    "Y_test = np.empty((num_test_positive + num_test_negative, 1))\n",
    "\n",
    "\n",
    "def trainSetPositive(i):\n",
    "    im = Image.open(poster_positive[i])\n",
    "    im = ImageProcess.rgb_to_yuv(im.convert('RGB'))\n",
    "    im = np.array(im[:,:,:])\n",
    "    X_train[i] = np.asarray(im, dtype='float64')\n",
    "    Y_train[i] = 1\n",
    "    \n",
    "def trainSetNegative(i):\n",
    "    im = Image.open(poster_positive[i])\n",
    "    im = ImageProcess.rgb_to_yuv(im.convert('RGB'))\n",
    "    im = np.array(im[:,:,:])\n",
    "    X_train[num_train_positive + i] = np.asarray(im, dtype='float64')\n",
    "    Y_train[num_train_positive + i] = 0\n",
    "    \n",
    "def validationSetPositive(i):\n",
    "    im = Image.open(poster_positive[num_train_positive + i])\n",
    "    im = ImageProcess.rgb_to_yuv(im.convert('RGB'))\n",
    "    im = np.array(im[:,:,:])\n",
    "    X_validation[i] = np.asarray(im, dtype='float64')\n",
    "    Y_validation[i] = 1\n",
    "    \n",
    "def validationSetNegative(i):\n",
    "    im = Image.open(poster_negative[num_train_negative + i])\n",
    "    im = ImageProcess.rgb_to_yuv(im.convert('RGB'))\n",
    "    im = np.array(im[:,:,:])\n",
    "    X_test[num_validation_positive + i] = np.asarray(im, dtype='float64')\n",
    "    Y_test[num_validation_positive + i] = 0\n",
    "    \n",
    "def testSetPositive(i):\n",
    "    im = Image.open(poster_positive[num_train_positive + num_validation_positive + i])\n",
    "    im = ImageProcess.rgb_to_yuv(im.convert('RGB'))\n",
    "    im = np.array(im[:,:,:])\n",
    "    X_train[i] = np.asarray(im, dtype='float64')\n",
    "    Y_train[i] = 1\n",
    "    \n",
    "def testSetNegative(i):\n",
    "    im = Image.open(poster_positive[num_train_negative + num_validation_negative + i])\n",
    "    im = ImageProcess.rgb_to_yuv(im.convert('RGB'))\n",
    "    im = np.array(im[:,:,:])\n",
    "    X_train[num_test_positive + i] = np.asarray(im, dtype='float64')\n",
    "    Y_train[num_test_positive + i] = 0  \n",
    "    \n",
    "# initialize the process pool\n",
    "## ATTENTION: pool must be initialized after function\n",
    "pool = Pool(30)\n",
    "\n",
    "# make train set\n",
    "for i in range(num_train_positive):\n",
    "    pool.apply_async(trainSetPositive, args=(i,))\n",
    "for i in range(num_train_negative):\n",
    "    pool.apply_async(trainSetNegative, args=(i,))\n",
    "\n",
    "# shuffle the whole train set\n",
    "zipped = list(zip(X_train, Y_train))\n",
    "np.random.shuffle(zipped)\n",
    "X_train[:], Y_train[:] = zip(*zipped)\n",
    "print(X_train)\n",
    "input()\n",
    "print(Y_train)\n",
    "print(np.array(X_train).shape, np.array(Y_train).shape)\n",
    "assert len(X_train) == len(Y_train)\n",
    "\n",
    "    \n",
    "# make validation set\n",
    "for i in range(num_validation_positive):\n",
    "    pool.apply_async(validationSetPositive, args=(i,))\n",
    "    \n",
    "for i in range(num_validation_negative):\n",
    "    pool.apply_async(validationSetNegative, args=(i,))\n",
    "\n",
    "print(np.array(X_validation).shape, np.array(Y_validation).shape)\n",
    "assert len(X_validation) == len(Y_validation)\n",
    "\n",
    "\n",
    "# make test set\n",
    "for i in range(num_test_positive):\n",
    "    pool.apply_async(testSetPositive, args=(i,))\n",
    "\n",
    "for i in range(num_test_negative):\n",
    "    pool.apply_async(testSetNegative, args=(i,))\n",
    "\n",
    "print(np.array(X_test).shape, np.array(Y_test).shape)\n",
    "assert len(X_test) == len(Y_test)\n",
    "\n",
    "pool.close()\n",
    "pool.join()"
   ]
  },
  {
   "cell_type": "markdown",
   "metadata": {},
   "source": [
    "### 尝试使用VGG16卷积基预训练模型"
   ]
  },
  {
   "cell_type": "code",
   "execution_count": null,
   "metadata": {},
   "outputs": [],
   "source": [
    "# 将VGG16卷积基实例化\n",
    "from keras.applications import VGG16\n",
    "\n",
    "conv_base = VGG16(weights='imagenet',\n",
    "                  include_top=False,\n",
    "                  input_shape=(standard_height, standard_width, 3))"
   ]
  },
  {
   "cell_type": "code",
   "execution_count": null,
   "metadata": {},
   "outputs": [],
   "source": [
    "conv_base.summary()"
   ]
  },
  {
   "cell_type": "code",
   "execution_count": null,
   "metadata": {},
   "outputs": [],
   "source": [
    "# 在卷积基上添加一个密集链接分类器\n",
    "from keras import models\n",
    "from keras import layers\n",
    "from keras import regularizers\n",
    "from keras.models import load_model\n",
    "\n",
    "model = models.Sequential()\n",
    "model.add(conv_base)\n",
    "model.add(layers.Flatten())\n",
    "model.add(layers.Dense(256, activation='relu',\n",
    "                       kernel_initializer='truncated_normal', bias_initializer='zeros',\n",
    "                       kernel_regularizer=regularizers.l2(0.01), activity_regularizer=regularizers.l1(0.01)))\n",
    "model.add(layers.Dense(1,activation='sigmoid', kernel_initializer='truncated_normal', bias_initializer='zeros'))"
   ]
  },
  {
   "cell_type": "code",
   "execution_count": null,
   "metadata": {},
   "outputs": [],
   "source": [
    "model.summary()"
   ]
  },
  {
   "cell_type": "code",
   "execution_count": null,
   "metadata": {},
   "outputs": [],
   "source": [
    "# 冻结卷积基\n",
    "conv_base.trainable = False\n",
    "print(len(model.trainable_weights))"
   ]
  },
  {
   "cell_type": "code",
   "execution_count": null,
   "metadata": {},
   "outputs": [],
   "source": [
    "# 编译模型\n",
    "model.compile(optimizer='Adam',\n",
    "              loss='binary_crossentropy',\n",
    "              metrics=['accuracy'])"
   ]
  },
  {
   "cell_type": "code",
   "execution_count": null,
   "metadata": {},
   "outputs": [],
   "source": [
    "print(Y_train.shape)"
   ]
  },
  {
   "cell_type": "code",
   "execution_count": null,
   "metadata": {},
   "outputs": [],
   "source": [
    "# 训练模型\n",
    "model_path = './model_save/vgg16_plain.h5'\n",
    "if os.path.exists(model_path):\n",
    "    model = load_model(model_path)\n",
    "history = model.fit(X_train,\n",
    "                    Y_train,\n",
    "                    epochs=3,\n",
    "                    batch_size=70,\n",
    "                    validation_data=(X_validation, Y_validation))\n",
    "\n",
    "model.save(model_path)"
   ]
  },
  {
   "cell_type": "code",
   "execution_count": null,
   "metadata": {},
   "outputs": [],
   "source": [
    "results = model.evaluate(X_test, Y_test)\n",
    "print(results)"
   ]
  },
  {
   "cell_type": "code",
   "execution_count": null,
   "metadata": {},
   "outputs": [],
   "source": [
    "model.predict(X_test)"
   ]
  },
  {
   "cell_type": "code",
   "execution_count": null,
   "metadata": {},
   "outputs": [],
   "source": [
    "import matplotlib.pyplot as plt\n",
    "def trainVisualization(hist):\n",
    "    loss = hist.history['loss']\n",
    "    val_loss = hist.history['val_loss']\n",
    "    acc = hist.history['acc']\n",
    "    val_acc = hist.history['val_acc']\n",
    "\n",
    "    # make a figure\n",
    "    fig = plt.figure(figsize=(8,4))\n",
    "\n",
    "    # subplot loss\n",
    "    ax1 = fig.add_subplot(121)\n",
    "    ax1.plot(loss,label='train_loss')\n",
    "    ax1.plot(val_loss,label='val_loss')\n",
    "    ax1.scatter(history.epoch, history.history['loss'], marker='*')\n",
    "    ax1.scatter(history.epoch, history.history['val_loss'], marker='*')\n",
    "    ax1.set_xlabel('Epochs')\n",
    "    ax1.set_ylabel('Loss')\n",
    "    ax1.set_title('Loss on Training and Validation Data')\n",
    "    ax1.legend(loc='upper right')\n",
    "\n",
    "    # subplot acc\n",
    "    ax2 = fig.add_subplot(122)\n",
    "    ax2.plot(acc,label='train_acc')\n",
    "    ax2.plot(val_acc,label='val_acc')\n",
    "    ax2.scatter(history.epoch, history.history['acc'], marker='*')\n",
    "    ax2.scatter(history.epoch, history.history['val_acc'])\n",
    "    ax2.set_xlabel('Epochs')\n",
    "    ax2.set_ylabel('Accuracy')\n",
    "    ax2.set_title('Accuracy  on Training and Validation Data')\n",
    "    ax1.legend(loc='lower right')\n",
    "\n",
    "trainVisualization(history)"
   ]
  },
  {
   "cell_type": "markdown",
   "metadata": {},
   "source": [
    "### VGG16预训练模型效果不好，接下来重新训练一个以Xception为卷积基的网络"
   ]
  },
  {
   "cell_type": "code",
   "execution_count": null,
   "metadata": {},
   "outputs": [],
   "source": [
    "from keras.applications import Xception\n",
    "from keras import models\n",
    "from keras import layers\n",
    "\n",
    "conv_base_xception = Xception(include_top=False,\n",
    "                              input_shape=(standard_height, standard_width, 3))"
   ]
  },
  {
   "cell_type": "code",
   "execution_count": null,
   "metadata": {},
   "outputs": [],
   "source": [
    "conv_base_xception.summary()"
   ]
  },
  {
   "cell_type": "code",
   "execution_count": null,
   "metadata": {},
   "outputs": [],
   "source": [
    "# 在xception卷积基上添加一个密集链接分类器\n",
    "\n",
    "model_xception = models.Sequential()\n",
    "model_xception.add(conv_base_xception)\n",
    "model_xception.add(layers.Flatten())\n",
    "model_xception.add(layers.Dense(256, activation='relu'))\n",
    "model_xception.add(layers.Dense(1,activation='sigmoid'))"
   ]
  },
  {
   "cell_type": "code",
   "execution_count": null,
   "metadata": {
    "scrolled": true
   },
   "outputs": [],
   "source": [
    "model_xception.summary()"
   ]
  },
  {
   "cell_type": "code",
   "execution_count": null,
   "metadata": {},
   "outputs": [],
   "source": [
    "print(len(model_xception.trainable_weights))"
   ]
  },
  {
   "cell_type": "code",
   "execution_count": null,
   "metadata": {},
   "outputs": [],
   "source": [
    "# 编译模型\n",
    "model_xception.compile(optimizer='rmsprop',\n",
    "                       loss='binary_crossentropy',\n",
    "                       metrics=['accuracy']) "
   ]
  },
  {
   "cell_type": "code",
   "execution_count": null,
   "metadata": {},
   "outputs": [],
   "source": [
    "# 训练模型\n",
    "from keras.backend import get_session\n",
    "\n",
    "get_session().run(tf.global_variables_initializer())\n",
    "\n",
    "history_xception = model_xception.fit(X_train,\n",
    "                                      Y_train,\n",
    "                                      epochs=20,\n",
    "                                      batch_size=16,\n",
    "                                      validation_data=(X_validation, Y_validation))\n",
    "\n",
    "model_xception.save('scorer_xception.h5')"
   ]
  },
  {
   "cell_type": "markdown",
   "metadata": {},
   "source": [
    "### 尝试加入style matrix(gram matrix)，这里还是使用VGG16，因为只包含卷积和池化基本操作"
   ]
  },
  {
   "cell_type": "code",
   "execution_count": null,
   "metadata": {},
   "outputs": [],
   "source": [
    "# 将VGG16卷积基实例化，这次不含参数\n",
    "from keras.applications import VGG16\n",
    "\n",
    "conv_base_vgg16 = VGG16(include_top=False,\n",
    "                        input_shape=(standard_height, standard_width, 3))"
   ]
  },
  {
   "cell_type": "code",
   "execution_count": null,
   "metadata": {},
   "outputs": [],
   "source": [
    "conv_base_vgg16.summary()"
   ]
  },
  {
   "cell_type": "code",
   "execution_count": null,
   "metadata": {},
   "outputs": [],
   "source": [
    "# style matrix(gram matrix)\n",
    "\n",
    "from keras import backend as K\n",
    "\n",
    "# def gram_matrix(A):\n",
    "#     \"\"\"\n",
    "#     Argument:\n",
    "#     A -- matrix of shape (n_C, n_H*n_W)\n",
    "    \n",
    "#     Returns:\n",
    "#     GA -- Gram matrix of A, of shape (n_C, n_C)\n",
    "#     \"\"\"\n",
    "    \n",
    "#     GA = K.dot(A, K.transpose(A))\n",
    "    \n",
    "#     return GA\n",
    "\n",
    "def compute_layer_style(a_S):\n",
    "#     \"\"\"\n",
    "#     Arguments:\n",
    "#     a_S -- tensor of dimension (1, n_H, n_W, n_C), hidden layer activations representing style of the image S \n",
    "\n",
    "#     Returns: \n",
    "#     GS -- Gram matrix of S, of shape (n_C, n_C)        \n",
    "#     \"\"\"\n",
    "    \n",
    "    GS = K.batch_dot(a_S, a_S, axes=[1, 1])\n",
    "    \n",
    "    return GS"
   ]
  },
  {
   "cell_type": "code",
   "execution_count": null,
   "metadata": {},
   "outputs": [],
   "source": [
    "# 构建网络\n",
    "\n",
    "from keras.models import Model\n",
    "from keras import layers\n",
    "from keras import Input\n",
    "\n",
    "def model_vgg16_style(input_shape):\n",
    "    \n",
    "    X_input = Input(input_shape)\n",
    "    \n",
    "    X = conv_base_vgg16(X_input)\n",
    "    \n",
    "    m, n_H, n_W, n_C = X.get_shape().as_list()\n",
    "    \n",
    "    X = layers.core.Reshape([n_H*n_W, n_C])(X)\n",
    "    \n",
    "    X = layers.core.Lambda(compute_layer_style)(X)\n",
    "    \n",
    "    X = layers.Flatten()(X)\n",
    "    \n",
    "    X = layers.Dense(256, activation='relu')(X)\n",
    "    \n",
    "    X = layers.Dense(256, activation='relu')(X)\n",
    "    \n",
    "    X = layers.Dense(1, activation='sigmoid')(X)\n",
    "    \n",
    "    model_vgg16_style = Model(X_input, X)\n",
    "    \n",
    "    return model_vgg16_style"
   ]
  },
  {
   "cell_type": "code",
   "execution_count": null,
   "metadata": {},
   "outputs": [],
   "source": [
    "model_vgg16_style = model_vgg16_style((standard_height, standard_width, 3))"
   ]
  },
  {
   "cell_type": "code",
   "execution_count": null,
   "metadata": {},
   "outputs": [],
   "source": [
    "model_vgg16_style.summary()"
   ]
  },
  {
   "cell_type": "code",
   "execution_count": null,
   "metadata": {},
   "outputs": [],
   "source": [
    "# 编译模型\n",
    "model_vgg16_style.compile(optimizer='rmsprop',\n",
    "                          loss='binary_crossentropy',\n",
    "                          metrics=['accuracy'])"
   ]
  },
  {
   "cell_type": "code",
   "execution_count": null,
   "metadata": {},
   "outputs": [],
   "source": [
    "# 训练模型\n",
    "from keras.backend import get_session\n",
    "\n",
    "get_session().run(tf.global_variables_initializer())\n",
    "\n",
    "history_vgg16_style = model_vgg16_style.fit(X_train,\n",
    "                                            Y_train,\n",
    "                                            epochs=5,\n",
    "                                            batch_size=16,\n",
    "                                            validation_data=(X_validation, Y_validation))\n",
    "\n",
    "model_vgg16_style.save('scorer_vgg16_style.h5')"
   ]
  },
  {
   "cell_type": "markdown",
   "metadata": {},
   "source": [
    "### 可能海报提取成高维特征后，就会不收敛，下面尝试搭建一个只带一次卷积池化的简单网络"
   ]
  },
  {
   "cell_type": "code",
   "execution_count": null,
   "metadata": {},
   "outputs": [],
   "source": [
    "from keras.models import Model\n",
    "from keras import layers\n",
    "from keras import Input\n",
    "\n",
    "def Simple_Model(input_shape):\n",
    "    \n",
    "    X_input = Input(input_shape)\n",
    "        \n",
    "    X = layers.ZeroPadding2D((3, 3))(X_input)\n",
    "        \n",
    "    X = layers.Conv2D(32, (7, 7), strides = (1, 1), name = 'conv0')(X)\n",
    "    X = layers.BatchNormalization(axis = 3, name = 'bn0')(X)\n",
    "    X = layers.Activation('relu')(X)\n",
    "        \n",
    "    X = layers.MaxPooling2D((2, 2), name='max_pool')(X)\n",
    "        \n",
    "    X = layers.Flatten()(X)\n",
    "    X = layers.Dense(1, activation='sigmoid', name='fc')(X)\n",
    "        \n",
    "    simple_model = Model(inputs = X_input, outputs = X, name='Simple_Model')\n",
    "    \n",
    "    \n",
    "    return simple_model"
   ]
  },
  {
   "cell_type": "code",
   "execution_count": null,
   "metadata": {},
   "outputs": [],
   "source": [
    "simple_model = Simple_Model((standard_height, standard_width, 3))"
   ]
  },
  {
   "cell_type": "code",
   "execution_count": null,
   "metadata": {},
   "outputs": [],
   "source": [
    "simple_model.summary()"
   ]
  },
  {
   "cell_type": "code",
   "execution_count": null,
   "metadata": {},
   "outputs": [],
   "source": [
    "simple_model.compile(optimizer = \"Adam\",\n",
    "                     loss = \"binary_crossentropy\",\n",
    "                     metrics = [\"accuracy\"])"
   ]
  },
  {
   "cell_type": "code",
   "execution_count": null,
   "metadata": {},
   "outputs": [],
   "source": [
    "history_simple = simple_model.fit(X_train,\n",
    "                                  Y_train,\n",
    "                                  epochs=5,\n",
    "                                  batch_size=16,\n",
    "                                  validation_data=(X_validation, Y_validation))"
   ]
  },
  {
   "cell_type": "markdown",
   "metadata": {},
   "source": [
    "### 尝试只用全连接层"
   ]
  },
  {
   "cell_type": "code",
   "execution_count": null,
   "metadata": {},
   "outputs": [],
   "source": [
    "from keras.models import Model\n",
    "from keras import layers\n",
    "from keras import Input\n",
    "\n",
    "def dense_model(input_shape):\n",
    "    \n",
    "    X_input = Input(input_shape)\n",
    "    \n",
    "#     m, n_H, n_W, n_C = X_input.get_shape().as_list()\n",
    "    \n",
    "#     X = layers.core.Reshape([n_H*n_W, n_C])(X_input)\n",
    "    \n",
    "#     X = layers.core.Lambda(compute_layer_style)(X)\n",
    "    \n",
    "    X = layers.Flatten()(X_input)\n",
    "    \n",
    "    X = layers.Dense(512, activation='relu')(X)\n",
    "    \n",
    "    X = layers.Dense(512, activation='relu')(X)\n",
    "    \n",
    "    X = layers.Dense(1, activation='sigmoid')(X)\n",
    "    \n",
    "    dense_model = Model(inputs = X_input, outputs = X)\n",
    "    \n",
    "    return dense_model"
   ]
  },
  {
   "cell_type": "code",
   "execution_count": null,
   "metadata": {},
   "outputs": [],
   "source": [
    "dense_model = dense_model((standard_height, standard_width, 3))"
   ]
  },
  {
   "cell_type": "code",
   "execution_count": null,
   "metadata": {},
   "outputs": [],
   "source": [
    "dense_model.summary()"
   ]
  },
  {
   "cell_type": "code",
   "execution_count": null,
   "metadata": {},
   "outputs": [],
   "source": [
    "dense_model.compile(optimizer = \"Adam\",\n",
    "                    loss = \"binary_crossentropy\",\n",
    "                    metrics = [\"accuracy\"])"
   ]
  },
  {
   "cell_type": "code",
   "execution_count": null,
   "metadata": {},
   "outputs": [],
   "source": [
    "dense_simple = dense_model.fit(X_train,\n",
    "                               Y_train,\n",
    "                               epochs=5,\n",
    "                               batch_size=16,\n",
    "                               validation_data=(X_validation, Y_validation))"
   ]
  }
 ],
 "metadata": {
  "kernelspec": {
   "display_name": "Python 3",
   "language": "python",
   "name": "python3"
  },
  "language_info": {
   "codemirror_mode": {
    "name": "ipython",
    "version": 3
   },
   "file_extension": ".py",
   "mimetype": "text/x-python",
   "name": "python",
   "nbconvert_exporter": "python",
   "pygments_lexer": "ipython3",
   "version": "3.5.2"
  }
 },
 "nbformat": 4,
 "nbformat_minor": 2
}
